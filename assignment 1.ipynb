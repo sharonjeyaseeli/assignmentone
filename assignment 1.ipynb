{
 "cells": [
  {
   "cell_type": "code",
   "execution_count": 2,
   "id": "bb9ef8e8",
   "metadata": {},
   "outputs": [
    {
     "name": "stdout",
     "output_type": "stream",
     "text": [
      "Enter the Range Number: 10\n",
      "1\n",
      "1\n",
      "2\n",
      "3\n",
      "5\n",
      "8\n",
      "13\n",
      "21\n",
      "34\n"
     ]
    }
   ],
   "source": [
    "num = int(input(\"Enter the Range Number: \"))\n",
    "First_val = 0\n",
    "Second_val = 1\n",
    "print(\"1\")\n",
    "for n in range(0, num):\n",
    "    if(n <= 1):\n",
    "        next = n\n",
    "    else:\n",
    "        next = First_val + Second_val\n",
    "        First_val = Second_val\n",
    "        Second_val = next\n",
    "        print(next)\n"
   ]
  },
  {
   "cell_type": "code",
   "execution_count": 7,
   "id": "8ea39333",
   "metadata": {},
   "outputs": [
    {
     "name": "stdout",
     "output_type": "stream",
     "text": [
      "input =  Edyoda\n",
      "output =  adoydE\n"
     ]
    }
   ],
   "source": [
    "st1 = \"Edyoda\"\n",
    "\n",
    "st2 = ''\n",
    "\n",
    "for i in st1:\n",
    "    st2 = i+st2\n",
    "    \n",
    "print(\"input = \", st1)\n",
    "print(\"output = \", st2)\n"
   ]
  },
  {
   "cell_type": "code",
   "execution_count": 26,
   "id": "49037969",
   "metadata": {},
   "outputs": [
    {
     "name": "stdout",
     "output_type": "stream",
     "text": [
      "number of even number=   4\n",
      "number of odd number=  5\n"
     ]
    }
   ],
   "source": [
    "a=[1,2,3,4,5,6,7,8,9]\n",
    "even_count=0\n",
    "odd_count=0\n",
    "for i in a:\n",
    "    if i%2==0:\n",
    "        even_count=even_count+1\n",
    "        \n",
    "    else:\n",
    "        odd_count=odd_count+1\n",
    "print(\"number of even number=  \",even_count)\n",
    "print(\"number of odd number= \",odd_count)"
   ]
  },
  {
   "cell_type": "code",
   "execution_count": null,
   "id": "65b7d6d4",
   "metadata": {},
   "outputs": [],
   "source": []
  },
  {
   "cell_type": "code",
   "execution_count": null,
   "id": "83b2225d",
   "metadata": {},
   "outputs": [],
   "source": []
  }
 ],
 "metadata": {
  "kernelspec": {
   "display_name": "Python 3 (ipykernel)",
   "language": "python",
   "name": "python3"
  },
  "language_info": {
   "codemirror_mode": {
    "name": "ipython",
    "version": 3
   },
   "file_extension": ".py",
   "mimetype": "text/x-python",
   "name": "python",
   "nbconvert_exporter": "python",
   "pygments_lexer": "ipython3",
   "version": "3.10.2"
  }
 },
 "nbformat": 4,
 "nbformat_minor": 5
}
